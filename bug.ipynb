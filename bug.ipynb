{
 "cells": [
  {
   "cell_type": "markdown",
   "id": "09b3e37f",
   "metadata": {},
   "source": [
    "# Bug Report"
   ]
  },
  {
   "cell_type": "markdown",
   "id": "91ff3ce5",
   "metadata": {},
   "source": [
    "## Expected result"
   ]
  },
  {
   "cell_type": "code",
   "execution_count": 1,
   "id": "9ad1cdbc",
   "metadata": {},
   "outputs": [
    {
     "name": "stdout",
     "output_type": "stream",
     "text": [
      "['Porcupine Tree', 'Paradise Lost', 'Blackfield', 'Muse', 'Queens of the Stone Age']\n"
     ]
    }
   ],
   "source": [
    "user_artists_name = [\n",
    "    \"Radiohead\", \"Pink Floyd\", \"Opeth\", \"System of a Down\", \"Arcade Fire\",\n",
    "    \"L'Arc~en~Ciel\", \"Pearl Jam\", \"Metallica\", \"Dream Theater\", \"Symphony X\",\n",
    "    \"Testament\", \"Queen\", \"The Mars Volta\", \"Ayreon\", \"Incubus\",\n",
    "    \"Faith No More\", \"Queensrÿche\", \"Kansas\", \"Elio e le Storie Tese\",\n",
    "    \"Spock's Beard\", \"Shadow Gallery\", \"Pain of Salvation\", \"Amorphis\", \"Toto\",\n",
    "    \"Litfiba\", \"Fates Warning\", \"Riverside\", \"Orphaned Land\", \"Adagio\",\n",
    "    \"Andromeda\", \"Green Carnation\", \"Premiata Forneria Marconi\", \"Marty Friedman\",\n",
    "    \"Gordian Knot\", \"Zucchero\", \"A.C.T\", \"Giovanni Allevi\", \"Act\",\n",
    "    \"Wolverine\", \"Allen-Lande\", \"Pin-Up Went Down\", \"regsgnep\", \"Pathosray\",\n",
    "    \"Quintorigo\", \"Frost\", \"rEarth\", \"Timoria\", \"Fabio Concato\",\n",
    "    \"Pallas\", \"Quella Mezza Sporca Dozzina\"\n",
    "]\n",
    "\n",
    "artists_name_array = [\n",
    "    [\n",
    "        \"Porcupine Tree\", \"Radiohead\", \"Pink Floyd\", \"Paradise Lost\", \"Blackfield\",\n",
    "        \"Opeth\", \"Muse\", \"Queens of the Stone Age\", \"The Beatles\", \"Massive Attack\",\n",
    "        \"Katatonia\", \"The Smashing Pumpkins\", \"Anathema\", \"Trans-Siberian Orchestra\",\n",
    "        \"Alice in Chains\", \"Soundgarden\", \"Afghan Whigs\", \"Dream Theater\", \"Yanni\",\n",
    "        \"Ayreon\", \"Tool\", \"Agalloch\", \"Daddy Yankee\", \"King Diamond\", \"Spock's Beard\",\n",
    "        \"Pain of Salvation\", \"Frank Zappa\", \"dredg\", \"Devin Townsend Project\", \"Marillion\",\n",
    "        \"Ulver\", \"Cynic\", \"Septic Flesh\", \"Riverside\", \"Orphaned Land\", \"Nightingale\",\n",
    "        \"Phideaux\", \"Café Tacuba\", \"Premiata Forneria Marconi\", \"Dog Fashion Disco\",\n",
    "        \"maudlin of the Well\", \"Juan Luis Guerra\", \"Edge of Sanity\", \"岩代太郎\",\n",
    "        \"The Gourishankar\", \"Sigh\", \"Place Vendome\", \"이박사\", \"Subterranean Masquerade\",\n",
    "        \"Moon Safari\"\n",
    "    ]\n",
    "]\n",
    "\n",
    "def get_artists_name_array(user_id):\n",
    "    return artists_name_array\n",
    "\n",
    "def get_artists_name_by_user_id(user_id):\n",
    "    return user_artists_name\n",
    "\n",
    "def get_recommendations(user_id, artists_limit):\n",
    "    artists_name_array = get_artists_name_array(user_id)\n",
    "    user_artists_name = get_artists_name_by_user_id(user_id)  # Using a set for faster lookups\n",
    "    recommendations = []\n",
    "    \n",
    "    for artists_name in artists_name_array:\n",
    "        for artist_name in artists_name:\n",
    "            if artist_name not in user_artists_name and artist_name not in recommendations:\n",
    "                recommendations.append(artist_name)\n",
    "                if len(recommendations) >= artists_limit:\n",
    "                    return recommendations\n",
    "    \n",
    "    return recommendations\n",
    "\n",
    "# Test call\n",
    "recommendations = get_recommendations(user_id=1, artists_limit=5)\n",
    "print(recommendations)\n"
   ]
  },
  {
   "cell_type": "markdown",
   "id": "fb55160e",
   "metadata": {},
   "source": [
    "## Actual Results"
   ]
  },
  {
   "cell_type": "code",
   "execution_count": 2,
   "id": "cdf1e705",
   "metadata": {},
   "outputs": [
    {
     "name": "stdout",
     "output_type": "stream",
     "text": [
      "['Porcupine Tree', 'Radiohead', 'Pink Floyd', 'Paradise Lost', 'Blackfield']\n"
     ]
    }
   ],
   "source": [
    "import pandas as pd\n",
    "\n",
    "user_artists_name = [\n",
    "    \"Radiohead\", \"Pink Floyd\", \"Opeth\", \"System of a Down\", \"Arcade Fire\",\n",
    "    \"L'Arc~en~Ciel\", \"Pearl Jam\", \"Metallica\", \"Dream Theater\", \"Symphony X\",\n",
    "    \"Testament\", \"Queen\", \"The Mars Volta\", \"Ayreon\", \"Incubus\",\n",
    "    \"Faith No More\", \"Queensrÿche\", \"Kansas\", \"Elio e le Storie Tese\",\n",
    "    \"Spock's Beard\", \"Shadow Gallery\", \"Pain of Salvation\", \"Amorphis\", \"Toto\",\n",
    "    \"Litfiba\", \"Fates Warning\", \"Riverside\", \"Orphaned Land\", \"Adagio\",\n",
    "    \"Andromeda\", \"Green Carnation\", \"Premiata Forneria Marconi\", \"Marty Friedman\",\n",
    "    \"Gordian Knot\", \"Zucchero\", \"A.C.T\", \"Giovanni Allevi\", \"Act\",\n",
    "    \"Wolverine\", \"Allen-Lande\", \"Pin-Up Went Down\", \"regsgnep\", \"Pathosray\",\n",
    "    \"Quintorigo\", \"Frost\", \"rEarth\", \"Timoria\", \"Fabio Concato\",\n",
    "    \"Pallas\", \"Quella Mezza Sporca Dozzina\"\n",
    "]\n",
    "\n",
    "artists_name_array = [\n",
    "    [\n",
    "        \"Porcupine Tree\", \"Radiohead\", \"Pink Floyd\", \"Paradise Lost\", \"Blackfield\",\n",
    "        \"Opeth\", \"Muse\", \"Queens of the Stone Age\", \"The Beatles\", \"Massive Attack\",\n",
    "        \"Katatonia\", \"The Smashing Pumpkins\", \"Anathema\", \"Trans-Siberian Orchestra\",\n",
    "        \"Alice in Chains\", \"Soundgarden\", \"Afghan Whigs\", \"Dream Theater\", \"Yanni\",\n",
    "        \"Ayreon\", \"Tool\", \"Agalloch\", \"Daddy Yankee\", \"King Diamond\", \"Spock's Beard\",\n",
    "        \"Pain of Salvation\", \"Frank Zappa\", \"dredg\", \"Devin Townsend Project\", \"Marillion\",\n",
    "        \"Ulver\", \"Cynic\", \"Septic Flesh\", \"Riverside\", \"Orphaned Land\", \"Nightingale\",\n",
    "        \"Phideaux\", \"Café Tacuba\", \"Premiata Forneria Marconi\", \"Dog Fashion Disco\",\n",
    "        \"maudlin of the Well\", \"Juan Luis Guerra\", \"Edge of Sanity\", \"岩代太郎\",\n",
    "        \"The Gourishankar\", \"Sigh\", \"Place Vendome\", \"이박사\", \"Subterranean Masquerade\",\n",
    "        \"Moon Safari\"\n",
    "    ]\n",
    "]\n",
    "\n",
    "def get_artists_name_array(user_id):\n",
    "    return pd.Series(artists_name_array)\n",
    "\n",
    "def get_artists_name_by_user_id(user_id):\n",
    "    return pd.Series(user_artists_name)\n",
    "\n",
    "def get_recommendations(user_id, artists_limit):\n",
    "    artists_name_array = get_artists_name_array(user_id)\n",
    "    user_artists_name = get_artists_name_by_user_id(user_id)  # Using a set for faster lookups\n",
    "    recommendations = []\n",
    "    \n",
    "    for artists_name in artists_name_array:\n",
    "        for artist_name in artists_name:\n",
    "            if artist_name not in user_artists_name and artist_name not in recommendations:\n",
    "                recommendations.append(artist_name)\n",
    "                if len(recommendations) >= artists_limit:\n",
    "                    return recommendations\n",
    "    \n",
    "    return recommendations\n",
    "\n",
    "# Test call\n",
    "recommendations = get_recommendations(user_id=1, artists_limit=5)\n",
    "print(recommendations)\n"
   ]
  },
  {
   "cell_type": "markdown",
   "id": "3ad9317a",
   "metadata": {},
   "source": [
    "# Bug Analysis"
   ]
  },
  {
   "cell_type": "markdown",
   "id": "09aca4f3",
   "metadata": {},
   "source": [
    "The bug seems to be in these lines of code:"
   ]
  },
  {
   "cell_type": "code",
   "execution_count": 3,
   "id": "18e65b62",
   "metadata": {},
   "outputs": [],
   "source": [
    "def get_artists_name_array(user_id):\n",
    "    return artists_name_array #pd.Series(artists_name_array)\n",
    "\n",
    "def get_artists_name_by_user_id(user_id):\n",
    "    return user_artists_name #pd.Series(user_artists_name)"
   ]
  },
  {
   "cell_type": "markdown",
   "id": "b3ddf09c",
   "metadata": {},
   "source": [
    "If I return `artists_name_array` and `user_artists_name` without converting them to `pandas.core.series.Series`, it works as expected; otherwise, it will return repeated values."
   ]
  },
  {
   "cell_type": "markdown",
   "id": "b374f83c",
   "metadata": {},
   "source": [
    "## Version of environment"
   ]
  },
  {
   "cell_type": "markdown",
   "id": "a176b15f",
   "metadata": {},
   "source": [
    "### Python version:"
   ]
  },
  {
   "cell_type": "code",
   "execution_count": 4,
   "id": "fe8e2037",
   "metadata": {},
   "outputs": [
    {
     "name": "stdout",
     "output_type": "stream",
     "text": [
      "Python version: 3.11.5 | packaged by Anaconda, Inc. | (main, Sep 11 2023, 13:26:23) [MSC v.1916 64 bit (AMD64)]\n"
     ]
    }
   ],
   "source": [
    "import sys\n",
    "print(\"Python version:\", sys.version)"
   ]
  },
  {
   "cell_type": "markdown",
   "id": "12683319",
   "metadata": {},
   "source": [
    "### Anaconda version:"
   ]
  },
  {
   "cell_type": "code",
   "execution_count": 5,
   "id": "56843c50",
   "metadata": {},
   "outputs": [
    {
     "name": "stdout",
     "output_type": "stream",
     "text": [
      "conda 23.7.4\n",
      "\n",
      "Note: you may need to restart the kernel to use updated packages.\n"
     ]
    },
    {
     "name": "stderr",
     "output_type": "stream",
     "text": [
      "Error while loading conda entry point: anaconda-cloud-auth (cannot import name 'ChannelAuthBase' from 'conda.plugins.types' (C:\\Users\\richa\\anaconda3\\Lib\\site-packages\\conda\\plugins\\types.py))\n",
      "Error while loading conda entry point: anaconda-cloud-auth (cannot import name 'ChannelAuthBase' from 'conda.plugins.types' (C:\\Users\\richa\\anaconda3\\Lib\\site-packages\\conda\\plugins\\types.py))\n"
     ]
    }
   ],
   "source": [
    "conda --version"
   ]
  },
  {
   "cell_type": "markdown",
   "id": "79520dd4",
   "metadata": {},
   "source": [
    "### Jupyter Notebook version:"
   ]
  },
  {
   "cell_type": "code",
   "execution_count": 6,
   "id": "279f77de",
   "metadata": {},
   "outputs": [
    {
     "name": "stdout",
     "output_type": "stream",
     "text": [
      "Jupyter Notebook version: 6.5.4\n"
     ]
    }
   ],
   "source": [
    "import notebook\n",
    "print(\"Jupyter Notebook version:\", notebook.__version__)"
   ]
  },
  {
   "cell_type": "markdown",
   "id": "c58e09ac",
   "metadata": {},
   "source": [
    "### Pandas version:"
   ]
  },
  {
   "cell_type": "code",
   "execution_count": 7,
   "id": "9172ee96",
   "metadata": {},
   "outputs": [
    {
     "name": "stdout",
     "output_type": "stream",
     "text": [
      "Pandas version: 2.0.3\n"
     ]
    }
   ],
   "source": [
    "import pandas as pd\n",
    "print(\"Pandas version:\", pd.__version__)\n"
   ]
  }
 ],
 "metadata": {
  "kernelspec": {
   "display_name": "Python 3 (ipykernel)",
   "language": "python",
   "name": "python3"
  },
  "language_info": {
   "codemirror_mode": {
    "name": "ipython",
    "version": 3
   },
   "file_extension": ".py",
   "mimetype": "text/x-python",
   "name": "python",
   "nbconvert_exporter": "python",
   "pygments_lexer": "ipython3",
   "version": "3.11.5"
  }
 },
 "nbformat": 4,
 "nbformat_minor": 5
}
